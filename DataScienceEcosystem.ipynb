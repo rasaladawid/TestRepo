{
 "cells": [
  {
   "cell_type": "markdown",
   "id": "628aae90-e975-4f66-9b8c-25e44c277bc6",
   "metadata": {},
   "source": [
    "# Data Science Tools and Ecosystem"
   ]
  },
  {
   "cell_type": "markdown",
   "id": "c4797a3b-5fe6-42a2-a008-9b5e08e10775",
   "metadata": {},
   "source": [
    "In this notebook, Data Science Tools and Ecosystem are summarized."
   ]
  },
  {
   "cell_type": "markdown",
   "id": "967ff3a3-5dcf-495f-8931-c02e3131384f",
   "metadata": {},
   "source": [
    "**Objectives:**\n",
    "* List popular languages for Data Science\n",
    "* List popular libraries for Data Science\n",
    "* Examples of evaluating arithmetic expressions in Python"
   ]
  },
  {
   "cell_type": "markdown",
   "id": "22ea0051-87af-46b7-83e9-f1d257778533",
   "metadata": {},
   "source": [
    "Some of the popular languages that Data Scientists use are:\n",
    "1. Python\n",
    "1. Scala\n",
    "1. Julia"
   ]
  },
  {
   "cell_type": "markdown",
   "id": "709ef2f6-e78b-465b-bc97-3ae2ed9bc191",
   "metadata": {},
   "source": [
    "Some of the commonly used libraries used by Data Scientists include:\n",
    "* Numpy\n",
    "* PyTorch\n",
    "* Pandas"
   ]
  },
  {
   "cell_type": "markdown",
   "id": "8f03545f-5153-4ca9-97c9-752574bd2807",
   "metadata": {},
   "source": [
    "| Data Science Tools |\n",
    "|:------------------:|\n",
    "|  Python            |\n",
    "|  R                 |\n",
    "|  GitHub            |"
   ]
  },
  {
   "cell_type": "markdown",
   "id": "ce568d62-759d-45c0-af50-19aea43b4f31",
   "metadata": {},
   "source": [
    "### Below are a few examples of evaluating arithmetic expressions in Python."
   ]
  },
  {
   "cell_type": "code",
   "execution_count": 3,
   "id": "adf48afc-2af5-4b54-806a-fddada10c26c",
   "metadata": {},
   "outputs": [
    {
     "data": {
      "text/plain": [
       "17"
      ]
     },
     "execution_count": 3,
     "metadata": {},
     "output_type": "execute_result"
    }
   ],
   "source": [
    "#This a simple arithmetic expression to mutiply then add integers\n",
    "(3*4)+5"
   ]
  },
  {
   "cell_type": "code",
   "execution_count": 4,
   "id": "6e07c0f4-35da-45ac-87f3-888de14b0585",
   "metadata": {},
   "outputs": [
    {
     "data": {
      "text/plain": [
       "3.3333333333333335"
      ]
     },
     "execution_count": 4,
     "metadata": {},
     "output_type": "execute_result"
    }
   ],
   "source": [
    "# This will convert 200 minutes to hours by diving by 60.\n",
    "200 / 60"
   ]
  },
  {
   "cell_type": "markdown",
   "id": "9ee484c0-a359-4e20-823a-a8ad384463ce",
   "metadata": {},
   "source": [
    "## Author\n",
    "Dawid Rasala"
   ]
  },
  {
   "cell_type": "code",
   "execution_count": null,
   "id": "7e7be5e6-7dc7-4430-b63f-3062ba4682fa",
   "metadata": {},
   "outputs": [],
   "source": []
  }
 ],
 "metadata": {
  "kernelspec": {
   "display_name": "Python 3 (ipykernel)",
   "language": "python",
   "name": "python3"
  },
  "language_info": {
   "codemirror_mode": {
    "name": "ipython",
    "version": 3
   },
   "file_extension": ".py",
   "mimetype": "text/x-python",
   "name": "python",
   "nbconvert_exporter": "python",
   "pygments_lexer": "ipython3",
   "version": "3.11.9"
  }
 },
 "nbformat": 4,
 "nbformat_minor": 5
}
